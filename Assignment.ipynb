{
  "nbformat": 4,
  "nbformat_minor": 0,
  "metadata": {
    "colab": {
      "provenance": [],
      "private_outputs": true,
      "collapsed_sections": [],
      "include_colab_link": true
    },
    "kernelspec": {
      "name": "python3",
      "display_name": "Python 3"
    },
    "language_info": {
      "name": "python"
    }
  },
  "cells": [
    {
      "cell_type": "markdown",
      "metadata": {
        "id": "view-in-github",
        "colab_type": "text"
      },
      "source": [
        "<a href=\"https://colab.research.google.com/github/galaxyhub9/INSTACLONE1/blob/main/Assignment.ipynb\" target=\"_parent\"><img src=\"https://colab.research.google.com/assets/colab-badge.svg\" alt=\"Open In Colab\"/></a>"
      ]
    },
    {
      "cell_type": "code",
      "source": [
        "from google.colab import drive\n",
        "drive.mount('/content/drive')"
      ],
      "metadata": {
        "id": "caBAVQyZh_ZV"
      },
      "execution_count": null,
      "outputs": []
    },
    {
      "cell_type": "code",
      "source": [
        "from sys import flags\n",
        "import os\n",
        "import cv2\n",
        "from google.colab.patches import cv2_imshow\n",
        "\n",
        "\n",
        "sample= cv2.imread(\"/content/a.jpg\")\n",
        "score = 0\n",
        "kp1,kp2,mp = None,None, None\n",
        "\n",
        "fp_image = cv2.imread(\"/content/a.jpg\")\n",
        "sift = cv2.SIFT_create()                              # scale invariant feature transform (allows to extract key points from individual images)\n",
        "keypoints_1,descriptor_1 = sift.detectAndCompute(sample,None)\n",
        "keypoints_2,descriptor_2 = sift.detectAndCompute(fp_image,None)\n",
        "matches =  cv2.FlannBasedMatcher({'algorithm':1,'trees':10},{}).knnMatch(descriptor_1,descriptor_2,k=2)\n",
        "    \n",
        "match_point =[]\n",
        "for p,q in matches:\n",
        "    if p.distance <0.1*q.distance:\n",
        "        match_point.append(p)\n",
        "keypoints =  0\n",
        "if len(keypoints_1)<len(keypoints_2):\n",
        "    keypoints = len(keypoints_1)\n",
        "else:\n",
        "    keypoints = len(keypoints_2)\n",
        "    \n",
        "if len(match_point)/keypoints *100 > score:\n",
        "    score = len(match_point)/keypoints*100\n",
        "    image = fp_image\n",
        "    kp1,kp2,mp = keypoints_1,keypoints_2,match_point\n",
        "print('match:{}%'.format(score))\n",
        "result = cv2.drawMatches(sample,kp1,fp_image,kp2,mp,None)\n",
        "result = cv2.resize(result,None,fx=1,fy=1)"
      ],
      "metadata": {
        "id": "foSK-9krEwrE"
      },
      "execution_count": null,
      "outputs": []
    }
  ]
}